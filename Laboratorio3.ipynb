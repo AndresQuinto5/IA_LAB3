{
 "cells": [
  {
   "cell_type": "markdown",
   "metadata": {},
   "source": [
    "Universidad del valle de Guatemala  \n",
    "Dpto. Ciencias de la computacion  \n",
    "Inteligencia Artificial  \n",
    "Alberto Suriano  \n",
    "\n",
    "Laboratorio 2 \n",
    "Andres Quinto - 18288  \n",
    "Marlon xxxxx - xxxxx\n",
    "\n",
    "- Link del repositorio: https://github.com/AndresQuinto5/IA_LAB3.git"
   ]
  }
 ],
 "metadata": {
  "language_info": {
   "name": "python"
  }
 },
 "nbformat": 4,
 "nbformat_minor": 2
}
